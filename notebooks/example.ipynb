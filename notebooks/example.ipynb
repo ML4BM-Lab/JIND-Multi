{
 "cells": [
  {
   "cell_type": "markdown",
   "metadata": {},
   "source": [
    "# JIND-Multi Notebook Tutorial\n",
    "\n",
    "This notebook provides a step-by-step guide on how to run the JIND-Multi method using the Pancreas scRNA-seq dataset as an example. Specifically, batch 0 will be used as the source, batch 2 as the target, and batch 1 as an additional intermediate dataset. Since we have labels for the target batch, we will use confusion matrices to evaluate the results.\n",
    "\n",
    "## 1. Initial Setup\n",
    "\n",
    "First, let's ensure we have the necessary dependencies and import the `jind_multi` package."
   ]
  },
  {
   "cell_type": "code",
   "execution_count": null,
   "metadata": {},
   "outputs": [],
   "source": [
    "import sys\n",
    "import os\n",
    "import ast\n",
    "\n",
    "# Get the path to the project root directory\n",
    "project_dir = os.path.abspath(os.path.join(os.getcwd(), '..'))\n",
    "\n",
    "# Add the path to sys.path\n",
    "if project_dir not in sys.path:\n",
    "    sys.path.append(project_dir)\n",
    "\n",
    "# Import the jind_multi package\n",
    "import jind_multi"
   ]
  },
  {
   "cell_type": "markdown",
   "metadata": {},
   "source": [
    "# 2. Configuring Parameters\n",
    "\n",
    "In this section, we define the inputs required for running JIND-Multi by specifying various parameters. These inputs include:\n",
    "\n",
    "- **Path to the `.h5ad` file**: This is the location of the data file containing the single-cell RNA sequencing data.\n",
    "- **Batch and cell type column names**: We specify the column names for batch information and cell types within the AnnData object.\n",
    "- **Source and target batch names**: We indicate which batch will be used as the source for annotation transfer and which batch will be the target for annotation.\n",
    "- **Output path**: This is where the results of the analysis will be saved.\n",
    "- **Training configurations**: These include the number of features to consider in the model, the minimum number of cells required per cell type for training in each batch, and whether to use a GPU for computation.\n",
    "- **Intermediate datasets**: The `TRAIN_DATASETS_NAMES` parameter specifies which batches are used as intermediate datasets for training. These datasets, excluding the source and target batches, help in improving the model’s performance by providing additional training data.\n",
    "\n",
    "We define these parameters in the `Args` class, which will be used to configure and run the JIND-Multi method.\n"
   ]
  },
  {
   "cell_type": "code",
   "execution_count": null,
   "metadata": {},
   "outputs": [],
   "source": [
    "class Args:\n",
    "    PATH = \"../resources/data/pancreas/pancreas.h5ad\"  # path to your data\n",
    "    BATCH_COL = \"batch\" # Column name for batch information in the AnnData object\n",
    "    LABELS_COL = \"celltype\" # Column name for cell types in the AnnData object\n",
    "    SOURCE_DATASET_NAME = \"0\" # Name of the source batch\n",
    "    TARGET_DATASET_NAME = \"2\" # Name of the target batch\n",
    "    OUTPUT_PATH = \"../results/pancreas\" # Directory to save results\n",
    "    PRETRAINED_MODEL_PATH = \"\" # Path to pre-trained models, if available (here we are not introducing any)\n",
    "    TRAIN_DATASETS_NAMES = \"['1']\" # List of intermediate datasets for training\n",
    "    NUM_FEATURES = 5000 # Number of features (genes) to consider for modeling\n",
    "    MIN_CELL_TYPE_POPULATION = 100 # Minimum number of cells required per cell type for training\n",
    "    USE_GPU = True # Whether to use GPU for computation\n",
    "\n",
    "args = Args() \n",
    "print(args.PATH)"
   ]
  },
  {
   "cell_type": "markdown",
   "metadata": {},
   "source": [
    "# 3. Setting Up the Training Configuration\n",
    "We adjust the training configuration according to the specified parameters."
   ]
  },
  {
   "cell_type": "code",
   "execution_count": null,
   "metadata": {},
   "outputs": [],
   "source": [
    "# Set up training configuration (you can modify more things here)\n",
    "config = jind_multi.get_config()\n",
    "config['data']['num_features'] = args.NUM_FEATURES\n",
    "config['data']['min_cell_type_population'] = args.MIN_CELL_TYPE_POPULATION\n",
    "config['train_classifier']['cuda'] = args.USE_GPU  \n",
    "config['GAN']['cuda'] = args.USE_GPU  \n",
    "config['ftune']['cuda'] = args.USE_GPU  \n",
    "print(f'USE_GPU: {args.USE_GPU}')\n",
    "print(config)"
   ]
  },
  {
   "cell_type": "markdown",
   "metadata": {},
   "source": [
    "# 4. Loading and Processing Data\n",
    "We load and process the data using the `load_and_process_data` function from the `jind_multi` package. Then, we divide the data into training and test sets."
   ]
  },
  {
   "cell_type": "code",
   "execution_count": null,
   "metadata": {},
   "outputs": [],
   "source": [
    "# Load and process the data\n",
    "data = jind_multi.load_and_process_data(args, config) \n",
    "\n",
    "# Split into training and test datasets\n",
    "train_data = data[data['batch'] != args.TARGET_DATASET_NAME]\n",
    "test_data = data[data['batch'] == args.TARGET_DATASET_NAME]"
   ]
  },
  {
   "cell_type": "markdown",
   "metadata": {},
   "source": [
    "# 5. Creating the JIND-Multi Object\n",
    "We create an instance of the JindWrapper class, which encapsulates the functionality of JIND-Multi, including training and evaluating the model."
   ]
  },
  {
   "cell_type": "code",
   "execution_count": null,
   "metadata": {},
   "outputs": [],
   "source": [
    "train_datasets_names = ast.literal_eval(args.TRAIN_DATASETS_NAMES) \n",
    "\n",
    "jind = jind_multi.JindWrapper(\n",
    "    train_data=train_data, \n",
    "    train_dataset_names=train_datasets_names,  \n",
    "    source_dataset_name=args.SOURCE_DATASET_NAME, \n",
    "    output_path=args.OUTPUT_PATH,\n",
    "    config=config\n",
    ")"
   ]
  },
  {
   "cell_type": "markdown",
   "metadata": {},
   "source": [
    "# 6. Training the Model\n",
    "Now we train the model and we infer the labels on the test dataset (target batch)."
   ]
  },
  {
   "cell_type": "code",
   "execution_count": null,
   "metadata": {},
   "outputs": [],
   "source": [
    "# Train the JIND-Multi model\n",
    "jind.train(target_data=test_data)"
   ]
  },
  {
   "cell_type": "markdown",
   "metadata": {},
   "source": [
    "## 7. Applying the Trained Model to a New Target Batch\n",
    "\n",
    "Once the model has been trained, you may want to apply it to a new target batch. This process involves loading the pre-trained model from the saved directory and using it to make predictions on new data.\n",
    "\n",
    "### Steps:\n",
    "\n",
    "1. **Specify the Path to Pre-Trained Models**: Ensure that the path to the directory containing the trained models is correctly set. This directory should include the model files (`.pt` format) and the associated configuration files.\n",
    "\n",
    "2. **Load the Pre-Trained Model**: Use the `JindWrapper` class to load the pre-trained model from the specified directory.\n",
    "\n",
    "3. **Apply the Model to the New Target Batch**: Run the model on the new target batch to get predictions.\n",
    "\n",
    "Here’s how you can do this in code for batch 3:"
   ]
  },
  {
   "cell_type": "code",
   "execution_count": null,
   "metadata": {},
   "outputs": [],
   "source": [
    "# Define new parameters for applying the model to a new target batch\n",
    "class Args:\n",
    "    PATH = \"../resources/data/pancreas/pancreas.h5ad\"  # path to your data\n",
    "    BATCH_COL = \"batch\" # Column name for batch information in the AnnData object\n",
    "    LABELS_COL = \"celltype\" # Column name for cell types in the AnnData object\n",
    "    SOURCE_DATASET_NAME = \"0\" # Name of the source batch\n",
    "    TARGET_DATASET_NAME = \"3\" # Name of the target batch\n",
    "    OUTPUT_PATH = \"../results/pancreas_target3\" # Directory to save results\n",
    "    PRETRAINED_MODEL_PATH = \"../results/pancreas/trained_models\" # Path to pre-trained models, if available (here we are not introducing any)\n",
    "    TRAIN_DATASETS_NAMES = \"['1']\" # List of intermediate datasets for training\n",
    "    NUM_FEATURES = 5000 # Number of features (genes) to consider for modeling\n",
    "    MIN_CELL_TYPE_POPULATION = 5 # Minimum number of cells required per cell type for training\n",
    "    USE_GPU = True # Whether to use GPU for computation\n",
    "\n",
    "args = Args() \n",
    "print(args.PATH)\n",
    "\n",
    "# Set up training configuration\n",
    "config = jind_multi.get_config()\n",
    "config['data']['num_features'] = args.NUM_FEATURES\n",
    "config['data']['min_cell_type_population'] = args.MIN_CELL_TYPE_POPULATION\n",
    "config['train_classifier']['cuda'] = args.USE_GPU  \n",
    "config['GAN']['cuda'] = args.USE_GPU  \n",
    "config['ftune']['cuda'] = args.USE_GPU  \n",
    "print(f'USE_GPU: {args.USE_GPU}')\n",
    "print(config)\n",
    "\n",
    "# Load and process the data\n",
    "data = jind_multi.load_and_process_data(args, config) "
   ]
  },
  {
   "cell_type": "code",
   "execution_count": null,
   "metadata": {},
   "outputs": [],
   "source": [
    "# Split into training and test datasets\n",
    "train_data = data[data['batch'] != args.TARGET_DATASET_NAME]\n",
    "test_data = data[data['batch'] == args.TARGET_DATASET_NAME]\n",
    "\n",
    "# Create the JIND-Multi object\n",
    "jind2 = jind_multi.JindWrapper(\n",
    "                                train_data=train_data, \n",
    "                                source_dataset_name=args.SOURCE_DATASET_NAME, \n",
    "                                output_path=args.OUTPUT_PATH,\n",
    "                                config=config,\n",
    "                            )"
   ]
  },
  {
   "cell_type": "markdown",
   "metadata": {},
   "source": [
    "### Loading and Applying the Pre-Trained Model\n",
    "\n",
    "After setting up your parameters and preparing the data, the next step is to load the pre-trained model and use it for predictions on the new target batch. This process involves several steps:\n",
    "\n",
    "This step identifies the files containing the pre-trained models stored in the specified directory and loads validation statistics used to evaluate the performance of the pre-trained model."
   ]
  },
  {
   "cell_type": "code",
   "execution_count": null,
   "metadata": {},
   "outputs": [],
   "source": [
    "print('Loading pre-trained models from specified path...')\n",
    "file_paths = jind_multi.find_saved_models(args.PRETRAINED_MODEL_PATH, train_data)  # Check if pre-trained models are available\n",
    "print(file_paths)\n",
    "model = jind_multi.load_trained_models(file_paths, train_data, args.SOURCE_DATASET_NAME)\n",
    "print(model)\n",
    "print(\"Loading validation statistics...\")\n",
    "val_stats = jind_multi.load_val_stats(args.PRETRAINED_MODEL_PATH, 'val_stats_trained_model.json')\n",
    "print(val_stats)"
   ]
  },
  {
   "cell_type": "markdown",
   "metadata": {},
   "source": [
    "**Applying the Model to the New Target Batch:**"
   ]
  },
  {
   "cell_type": "code",
   "execution_count": null,
   "metadata": {},
   "outputs": [],
   "source": [
    "# Do JIND\n",
    "jind2.train(target_data=test_data, model=model, val_stats=val_stats)"
   ]
  },
  {
   "cell_type": "markdown",
   "metadata": {},
   "source": [
    "# 8 Conclusion\n",
    "\n",
    "This notebook provided a comprehensive guide on configuring and running `JIND-Multi` for single-cell RNA sequencing analysis, using the Pancreas dataset with multiple labeled batches. It covered the key steps, including setting parameters, loading and processing data, and evaluating the model using confusion matrices. To tailor the analysis to your specific dataset and research objectives, adjust the parameters accordingly and review the results.\n",
    "\n",
    "For further guidance on interpreting the results, please consult the `JIND-Multi` package documentation and the output files located in the `OUTPUT_PATH`."
   ]
  },
  {
   "cell_type": "markdown",
   "metadata": {},
   "source": []
  }
 ],
 "metadata": {
  "kernelspec": {
   "display_name": "jind",
   "language": "python",
   "name": "python3"
  },
  "language_info": {
   "codemirror_mode": {
    "name": "ipython",
    "version": 3
   },
   "file_extension": ".py",
   "mimetype": "text/x-python",
   "name": "python",
   "nbconvert_exporter": "python",
   "pygments_lexer": "ipython3",
   "version": "3.7.16"
  }
 },
 "nbformat": 4,
 "nbformat_minor": 2
}
